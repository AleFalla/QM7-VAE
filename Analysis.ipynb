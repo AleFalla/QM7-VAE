{
 "cells": [
  {
   "cell_type": "code",
   "execution_count": 1,
   "id": "7b76ab06",
   "metadata": {},
   "outputs": [
    {
     "name": "stderr",
     "output_type": "stream",
     "text": [
      "2021-11-08 16:09:21.493516: W tensorflow/stream_executor/platform/default/dso_loader.cc:64] Could not load dynamic library 'libcudart.so.11.0'; dlerror: libcudart.so.11.0: cannot open shared object file: No such file or directory\n",
      "2021-11-08 16:09:21.493745: I tensorflow/stream_executor/cuda/cudart_stub.cc:29] Ignore above cudart dlerror if you do not have a GPU set up on your machine.\n"
     ]
    }
   ],
   "source": [
    "from schnetpack import AtomsData, AtomsLoader\n",
    "from ase.visualize import view\n",
    "import torch \n",
    "import numpy as np\n",
    "from matplotlib import pyplot as plt\n",
    "import h5py\n",
    "from qml.representations import *\n",
    "import sys\n",
    "import pandas as pd\n",
    "import time\n",
    "from torch.utils.data import TensorDataset\n",
    "from torch.utils.data import DataLoader\n",
    "from torch import nn\n",
    "from torch import optim\n",
    "from torch.optim.lr_scheduler import ReduceLROnPlateau\n",
    "import torch.nn.functional as F\n",
    "from VAE import base_VAE"
   ]
  },
  {
   "cell_type": "code",
   "execution_count": 2,
   "id": "4c0a52a2",
   "metadata": {},
   "outputs": [],
   "source": [
    "plt.rcParams[\"figure.figsize\"] = (20, 20)"
   ]
  },
  {
   "cell_type": "code",
   "execution_count": null,
   "id": "eaa82c07",
   "metadata": {},
   "outputs": [],
   "source": []
  },
  {
   "cell_type": "code",
   "execution_count": 3,
   "id": "aaebacae",
   "metadata": {},
   "outputs": [],
   "source": [
    "df=pd.read_json('./dataframe41537.json')"
   ]
  },
  {
   "cell_type": "code",
   "execution_count": 5,
   "id": "870151c9",
   "metadata": {},
   "outputs": [
    {
     "ename": "RuntimeError",
     "evalue": "Error(s) in loading state_dict for prop_ls_NN:\n\tMissing key(s) in state_dict: \"model.0.weight\", \"model.0.bias\", \"model.2.weight\", \"model.2.bias\", \"model.4.weight\", \"model.4.bias\". \n\tUnexpected key(s) in state_dict: \"model_mu.0.weight\", \"model_mu.0.bias\", \"model_mu.2.weight\", \"model_mu.2.bias\", \"model_mu.4.weight\", \"model_mu.4.bias\", \"model_logvar.0.weight\", \"model_logvar.0.bias\", \"model_logvar.2.weight\", \"model_logvar.2.bias\", \"model_logvar.4.weight\", \"model_logvar.4.bias\". ",
     "output_type": "error",
     "traceback": [
      "\u001b[0;31m---------------------------------------------------------------------------\u001b[0m",
      "\u001b[0;31mRuntimeError\u001b[0m                              Traceback (most recent call last)",
      "\u001b[0;32m/tmp/ipykernel_31402/3679507968.py\u001b[0m in \u001b[0;36m<module>\u001b[0;34m\u001b[0m\n\u001b[1;32m     12\u001b[0m \u001b[0;31m#torch.save(last_model.state_dict(), PATH)\u001b[0m\u001b[0;34m\u001b[0m\u001b[0;34m\u001b[0m\u001b[0;34m\u001b[0m\u001b[0m\n\u001b[1;32m     13\u001b[0m \u001b[0mmodel_0\u001b[0m \u001b[0;34m=\u001b[0m \u001b[0mprop_ls_NN\u001b[0m\u001b[0;34m(\u001b[0m\u001b[0mlatent_size\u001b[0m\u001b[0;34m=\u001b[0m\u001b[0mlatent_size\u001b[0m\u001b[0;34m,\u001b[0m\u001b[0mprop_size\u001b[0m\u001b[0;34m=\u001b[0m\u001b[0mlen\u001b[0m\u001b[0;34m(\u001b[0m\u001b[0mprop_list\u001b[0m\u001b[0;34m)\u001b[0m\u001b[0;34m)\u001b[0m\u001b[0;34m\u001b[0m\u001b[0;34m\u001b[0m\u001b[0m\n\u001b[0;32m---> 14\u001b[0;31m \u001b[0mmodel_0\u001b[0m\u001b[0;34m.\u001b[0m\u001b[0mload_state_dict\u001b[0m\u001b[0;34m(\u001b[0m\u001b[0mtorch\u001b[0m\u001b[0;34m.\u001b[0m\u001b[0mload\u001b[0m\u001b[0;34m(\u001b[0m\u001b[0mPATH\u001b[0m\u001b[0;34m)\u001b[0m\u001b[0;34m)\u001b[0m\u001b[0;34m\u001b[0m\u001b[0;34m\u001b[0m\u001b[0m\n\u001b[0m",
      "\u001b[0;32m~/.local/lib/python3.8/site-packages/torch/nn/modules/module.py\u001b[0m in \u001b[0;36mload_state_dict\u001b[0;34m(self, state_dict, strict)\u001b[0m\n\u001b[1;32m   1404\u001b[0m \u001b[0;34m\u001b[0m\u001b[0m\n\u001b[1;32m   1405\u001b[0m         \u001b[0;32mif\u001b[0m \u001b[0mlen\u001b[0m\u001b[0;34m(\u001b[0m\u001b[0merror_msgs\u001b[0m\u001b[0;34m)\u001b[0m \u001b[0;34m>\u001b[0m \u001b[0;36m0\u001b[0m\u001b[0;34m:\u001b[0m\u001b[0;34m\u001b[0m\u001b[0;34m\u001b[0m\u001b[0m\n\u001b[0;32m-> 1406\u001b[0;31m             raise RuntimeError('Error(s) in loading state_dict for {}:\\n\\t{}'.format(\n\u001b[0m\u001b[1;32m   1407\u001b[0m                                self.__class__.__name__, \"\\n\\t\".join(error_msgs)))\n\u001b[1;32m   1408\u001b[0m         \u001b[0;32mreturn\u001b[0m \u001b[0m_IncompatibleKeys\u001b[0m\u001b[0;34m(\u001b[0m\u001b[0mmissing_keys\u001b[0m\u001b[0;34m,\u001b[0m \u001b[0munexpected_keys\u001b[0m\u001b[0;34m)\u001b[0m\u001b[0;34m\u001b[0m\u001b[0;34m\u001b[0m\u001b[0m\n",
      "\u001b[0;31mRuntimeError\u001b[0m: Error(s) in loading state_dict for prop_ls_NN:\n\tMissing key(s) in state_dict: \"model.0.weight\", \"model.0.bias\", \"model.2.weight\", \"model.2.bias\", \"model.4.weight\", \"model.4.bias\". \n\tUnexpected key(s) in state_dict: \"model_mu.0.weight\", \"model_mu.0.bias\", \"model_mu.2.weight\", \"model_mu.2.bias\", \"model_mu.4.weight\", \"model_mu.4.bias\", \"model_logvar.0.weight\", \"model_logvar.0.bias\", \"model_logvar.2.weight\", \"model_logvar.2.bias\", \"model_logvar.4.weight\", \"model_logvar.4.bias\". "
     ]
    }
   ],
   "source": [
    "from separate_models import prop_ls_lin, prop_ls_NN\n",
    "prop_list=list(df.columns[df.columns != 'BoB'])[8:53]\n",
    "latent_size=30#len(prop_list) #here the latent size is set to the lenght of the property list but this is not necessary. It would be nice for invertibility of linear mappings\n",
    "input_dim=len(df['BoB'][0])\n",
    "\n",
    "config_num=1\n",
    "PATH='./VAE_separate/onlyreco_trained_models/config_num_{}'.format(config_num)\n",
    "#torch.save(last_model.state_dict(), PATH)\n",
    "model = base_VAE(input_dim=input_dim, latent_size=latent_size)\n",
    "model.load_state_dict(torch.load(PATH))\n",
    "PATH='./VAE_separate/prop_ls_lin_trained_models/config_num_{}'.format(config_num)\n",
    "#torch.save(last_model.state_dict(), PATH)\n",
    "model_0 = prop_ls_NN(latent_size=latent_size,prop_size=len(prop_list))\n",
    "model_0.load_state_dict(torch.load(PATH))"
   ]
  },
  {
   "cell_type": "code",
   "execution_count": 32,
   "id": "80571184",
   "metadata": {},
   "outputs": [],
   "source": [
    "def perc_error(a,b):\n",
    "    a=torch.Tensor(a).abs()\n",
    "    b=torch.Tensor(b)\n",
    "    numer=torch.sum((a-b).abs())\n",
    "    denom=torch.sum(b.abs())\n",
    "    return 100*torch.mean(numer/denom)\n",
    "\n",
    "def tmp(x):\n",
    "    model_0.eval()\n",
    "    model.eval()\n",
    "    with torch.no_grad():\n",
    "        u_reco,logvar=model_0(x)\n",
    "        x_reco,logvar2=model.decode(u_reco)\n",
    "    return list(x_reco)\n",
    "\n",
    "#tmp(torch.Tensor(df[prop_list].iloc[0]))[0].tolist()\n",
    "#df['reconstructed']=df[prop_list].apply(lambda x: tmp(torch.Tensor(x))[0].tolist(),axis=1)\n",
    "#df"
   ]
  },
  {
   "cell_type": "code",
   "execution_count": 33,
   "id": "e62ef7c9",
   "metadata": {},
   "outputs": [
    {
     "data": {
      "text/plain": [
       "5.35655108698269"
      ]
     },
     "execution_count": 33,
     "metadata": {},
     "output_type": "execute_result"
    }
   ],
   "source": [
    "df['error_reco']=df[['reconstructed','BoB']].apply(lambda x: perc_error(*x),axis=1)\n",
    "df['error_reco'].apply(lambda x: x.item())"
   ]
  },
  {
   "cell_type": "code",
   "execution_count": 40,
   "id": "4fdcb46e",
   "metadata": {},
   "outputs": [
    {
     "data": {
      "text/plain": [
       "(0.0, 10.0)"
      ]
     },
     "execution_count": 40,
     "metadata": {},
     "output_type": "execute_result"
    },
    {
     "data": {
      "image/png": "[encoded data removed]",
      "text/plain": [
       "<Figure size 432x288 with 1 Axes>"
      ]
     },
     "metadata": {
      "needs_background": "light"
     },
     "output_type": "display_data"
    }
   ],
   "source": [
    "df['error_reco'].hist(bins=1000)\n",
    "plt.xlim([0,10])"
   ]
  },
  {
   "cell_type": "code",
   "execution_count": 45,
   "id": "4d318713",
   "metadata": {},
   "outputs": [
    {
     "data": {
      "text/plain": [
       "(array([196.,  53.,  47.,  48.,  77.,  23.,  22.,  58.,  56.,  81.,   1.,\n",
       "          5.,   4.,   4.,  21.,   2.,  17.,  23.,  23.,   2.,   4.,   5.,\n",
       "          5.,   1.,   7.,   2.,   0.,   0.,   5.,   4.,   0.,  26.,   4.,\n",
       "          1.,   1.,  32.,  17.,  27.,   8.,  42.,   6.,   7.,   6.,   4.,\n",
       "          0.,   0.,   0.,   0.,   1.,   1.,   0.,   0.,   0.,   4.,   1.,\n",
       "          4.,   7.,   0.,   0.,   9.,   6.,   1.,  23.,  23.,  29.,  46.,\n",
       "         10.,   2.,   2.,  10.,   7.,   3.,   9.,   0.,  14.,   9.,   4.,\n",
       "         15.,  11.,  32.,   0.,   2.,   5.,  14.,  21.,   1.,   2.,  11.,\n",
       "         36.,  11.,  12.,   1.,   5.,  22.,  17.,  38.,   9.,  40., 114.,\n",
       "        177.]),\n",
       " array([    0.  ,   415.36,   830.72,  1246.08,  1661.44,  2076.8 ,\n",
       "         2492.16,  2907.52,  3322.88,  3738.24,  4153.6 ,  4568.96,\n",
       "         4984.32,  5399.68,  5815.04,  6230.4 ,  6645.76,  7061.12,\n",
       "         7476.48,  7891.84,  8307.2 ,  8722.56,  9137.92,  9553.28,\n",
       "         9968.64, 10384.  , 10799.36, 11214.72, 11630.08, 12045.44,\n",
       "        12460.8 , 12876.16, 13291.52, 13706.88, 14122.24, 14537.6 ,\n",
       "        14952.96, 15368.32, 15783.68, 16199.04, 16614.4 , 17029.76,\n",
       "        17445.12, 17860.48, 18275.84, 18691.2 , 19106.56, 19521.92,\n",
       "        19937.28, 20352.64, 20768.  , 21183.36, 21598.72, 22014.08,\n",
       "        22429.44, 22844.8 , 23260.16, 23675.52, 24090.88, 24506.24,\n",
       "        24921.6 , 25336.96, 25752.32, 26167.68, 26583.04, 26998.4 ,\n",
       "        27413.76, 27829.12, 28244.48, 28659.84, 29075.2 , 29490.56,\n",
       "        29905.92, 30321.28, 30736.64, 31152.  , 31567.36, 31982.72,\n",
       "        32398.08, 32813.44, 33228.8 , 33644.16, 34059.52, 34474.88,\n",
       "        34890.24, 35305.6 , 35720.96, 36136.32, 36551.68, 36967.04,\n",
       "        37382.4 , 37797.76, 38213.12, 38628.48, 39043.84, 39459.2 ,\n",
       "        39874.56, 40289.92, 40705.28, 41120.64, 41536.  ]),\n",
       " <BarContainer object of 100 artists>)"
      ]
     },
     "execution_count": 45,
     "metadata": {},
     "output_type": "execute_result"
    },
    {
     "data": {
      "image/png": "[encoded data removed]",
      "text/plain": [
       "<Figure size 432x288 with 1 Axes>"
      ]
     },
     "metadata": {
      "needs_background": "light"
     },
     "output_type": "display_data"
    }
   ],
   "source": [
    "tempo=df[df['error_reco']>10]\n",
    "indexes=tempo.index\n",
    "plt.hist(indexes,bins=100)"
   ]
  },
  {
   "cell_type": "code",
   "execution_count": 55,
   "id": "b5b6a35e",
   "metadata": {},
   "outputs": [
    {
     "data": {
      "text/plain": [
       "3.4241410727206687"
      ]
     },
     "execution_count": 55,
     "metadata": {},
     "output_type": "execute_result"
    },
    {
     "data": {
      "image/png": "[encoded data removed]",
      "text/plain": [
       "<Figure size 432x288 with 1 Axes>"
      ]
     },
     "metadata": {
      "needs_background": "light"
     },
     "output_type": "display_data"
    }
   ],
   "source": [
    "df['error_reco'].plot(alpha=0.5)\n",
    "df['reco_error'].plot(alpha=0.5)\n",
    "\n",
    "plt.yscale('log')\n",
    "df['reco_error'].mean()"
   ]
  },
  {
   "cell_type": "code",
   "execution_count": 52,
   "id": "fbae0bdf",
   "metadata": {},
   "outputs": [],
   "source": [
    "df['reco_error']=df['reco_error'].apply(lambda x: x.item())"
   ]
  },
  {
   "cell_type": "code",
   "execution_count": 49,
   "id": "dc8087b6",
   "metadata": {},
   "outputs": [],
   "source": [
    "#from Utils import perc_error\n",
    "def perc_error(a,b):\n",
    "    numer=torch.sum((a-b).abs())\n",
    "    denom=torch.sum(b.abs())\n",
    "    #print(numer.size())\n",
    "    return 100*torch.mean(numer/denom)\n",
    "\n",
    "def elem_perc_error(a,b):\n",
    "    numer=((a-b).abs()).numpy()\n",
    "    denom=(b.abs()+torch.ones_like(b)).numpy()\n",
    "    #print(denom.size())\n",
    "    return list(np.divide(numer,denom))\n",
    "    \n",
    "def tmp(x):\n",
    "    model.eval()\n",
    "    with torch.no_grad():\n",
    "        x_reco,logvar,mu,logvar,z=model(x)\n",
    "    return perc_error(x_reco.abs(),x)\n",
    "\n",
    "df['reco_error']=df['BoB'].apply(lambda x: tmp(torch.Tensor(x)))\n",
    "#df"
   ]
  },
  {
   "cell_type": "code",
   "execution_count": null,
   "id": "0ca8e09a",
   "metadata": {},
   "outputs": [],
   "source": [
    "def tmp3(x):\n",
    "    model.eval()\n",
    "    with torch.no_grad():\n",
    "        x_reco,logvar,mu,logvar,z=model(x)\n",
    "    return list(elem_perc_error(x_reco.abs(),x))\n",
    "df['reco_error_vec']=df['BoB'].apply(lambda x: tmp3(torch.Tensor(x)))"
   ]
  },
  {
   "cell_type": "code",
   "execution_count": null,
   "id": "4b060cc0",
   "metadata": {},
   "outputs": [],
   "source": [
    "d=df['reco_error_vec'].values\n",
    "np.shape(list(d))"
   ]
  },
  {
   "cell_type": "code",
   "execution_count": null,
   "id": "077bdfbe",
   "metadata": {},
   "outputs": [],
   "source": [
    "#d=np.array(list(d))[:,0,:]\n",
    "plt.contourf(X,Y,sigmoid(d))"
   ]
  },
  {
   "cell_type": "code",
   "execution_count": null,
   "id": "d6f1431a",
   "metadata": {},
   "outputs": [],
   "source": [
    "ax=df['reco_error'].apply(lambda x: x.item()).hist(bins=1000)\n",
    "ax.set_xlim([0,30])"
   ]
  },
  {
   "cell_type": "code",
   "execution_count": null,
   "id": "99659d8f",
   "metadata": {},
   "outputs": [],
   "source": [
    "df['reco_error'].apply(lambda x: x.item()).plot(logy=True) "
   ]
  },
  {
   "cell_type": "code",
   "execution_count": null,
   "id": "782b8cef",
   "metadata": {
    "scrolled": false
   },
   "outputs": [],
   "source": [
    "df2=df[df['reco_error'].apply(lambda x: x.item())>=30]\n",
    "indexes=df2.index\n",
    "df2"
   ]
  },
  {
   "cell_type": "code",
   "execution_count": null,
   "id": "2911ca8a",
   "metadata": {},
   "outputs": [],
   "source": [
    "df3=df[df['reco_error'].apply(lambda x: x.item())<=2.5]\n",
    "indexes=df3.index\n",
    "plt.hist(indexes,bins=100)"
   ]
  },
  {
   "cell_type": "code",
   "execution_count": null,
   "id": "e6fe45be",
   "metadata": {},
   "outputs": [],
   "source": [
    "tmp=df['BoB'].apply(lambda x: np.count_nonzero(x))\n",
    "tmp.plot(alpha=0.5)\n",
    "plt.hist(indexes,bins=100)"
   ]
  },
  {
   "cell_type": "code",
   "execution_count": null,
   "id": "dac599e6",
   "metadata": {},
   "outputs": [],
   "source": [
    "unique_data"
   ]
  },
  {
   "cell_type": "code",
   "execution_count": null,
   "id": "11319973",
   "metadata": {},
   "outputs": [],
   "source": [
    "def tmp2(x):\n",
    "    x=np.array(x)\n",
    "    c=x!=0\n",
    "    return list(c.astype(int))\n",
    "nonzero_bonds=df['BoB'].apply(lambda x: tmp2(x))\n",
    "d=nonzero_bonds.values"
   ]
  },
  {
   "cell_type": "code",
   "execution_count": null,
   "id": "040dd98e",
   "metadata": {},
   "outputs": [],
   "source": [
    "hist=np.sum(list(d),axis=0)"
   ]
  },
  {
   "cell_type": "code",
   "execution_count": null,
   "id": "1fa25b8a",
   "metadata": {
    "scrolled": false
   },
   "outputs": [],
   "source": [
    "plt.plot(hist)\n",
    "plt.yscale('log')"
   ]
  },
  {
   "cell_type": "code",
   "execution_count": null,
   "id": "f952b6a8",
   "metadata": {},
   "outputs": [],
   "source": [
    "isto=df['BoB'].values\n",
    "isto=list(isto)\n",
    "plt.imshow(isto,interpolation='none')"
   ]
  },
  {
   "cell_type": "code",
   "execution_count": null,
   "id": "b9b02e96",
   "metadata": {
    "scrolled": true
   },
   "outputs": [],
   "source": [
    "%matplotlib notebook\n",
    "#calling it a second time may prevent some graphics errors\n",
    "%matplotlib notebook  \n",
    "from matplotlib import cm\n",
    "fig, ax = plt.subplots(subplot_kw={\"projection\": \"3d\"})\n",
    "\n",
    "# Make data.\n",
    "X = np.arange(0, 528, 1)\n",
    "Y = np.arange(0, 41537, 1)\n",
    "X, Y = np.meshgrid(X, Y)\n",
    "\n",
    "# Plot the surface.\n",
    "surf = ax.plot_surface(X, Y, np.log(1+np.array(isto)), cmap=cm.coolwarm,\n",
    "                       linewidth=0, antialiased=False)\n"
   ]
  },
  {
   "cell_type": "code",
   "execution_count": null,
   "id": "864a5cc3",
   "metadata": {},
   "outputs": [],
   "source": [
    "plt.rcParams[\"figure.figsize\"] = (10, 10)"
   ]
  },
  {
   "cell_type": "code",
   "execution_count": null,
   "id": "73fa1efb",
   "metadata": {},
   "outputs": [],
   "source": [
    "def sigmoid(x):\n",
    "    return 1/(1 + np.exp(-x))"
   ]
  },
  {
   "cell_type": "code",
   "execution_count": null,
   "id": "04be9a23",
   "metadata": {},
   "outputs": [],
   "source": [
    "plt.contourf(X,Y,sigmoid(np.array(isto)))"
   ]
  },
  {
   "cell_type": "code",
   "execution_count": null,
   "id": "03c29e03",
   "metadata": {},
   "outputs": [],
   "source": []
  },
  {
   "cell_type": "code",
   "execution_count": null,
   "id": "6fbbd619",
   "metadata": {},
   "outputs": [],
   "source": []
  }
 ],
 "metadata": {
  "kernelspec": {
   "display_name": "Python 3 (ipykernel)",
   "language": "python",
   "name": "python3"
  },
  "language_info": {
   "codemirror_mode": {
    "name": "ipython",
    "version": 3
   },
   "file_extension": ".py",
   "mimetype": "text/x-python",
   "name": "python",
   "nbconvert_exporter": "python",
   "pygments_lexer": "ipython3",
   "version": "3.8.10"
  }
 },
 "nbformat": 4,
 "nbformat_minor": 5
}
